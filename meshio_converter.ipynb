{
 "cells": [
  {
   "cell_type": "code",
   "execution_count": 1,
   "metadata": {},
   "outputs": [],
   "source": [
    "import meshio\n",
    "\n",
    "msh = meshio.read(\"pointy.msh\")\n",
    "for cell in msh.cells:\n",
    "    if cell.type == \"triangle\":\n",
    "        triangle_cells = cell.data\n",
    "    elif  cell.type == \"line\":\n",
    "        line_cells = cell.data\n",
    "\n",
    "for key in msh.cell_data_dict[\"gmsh:physical\"].keys():\n",
    "    if key == \"triangle\":\n",
    "        triangle_data = msh.cell_data_dict[\"gmsh:physical\"][key]\n",
    "    elif key == \"line\":\n",
    "        line_data = msh.cell_data_dict[\"gmsh:physical\"][key]\n",
    "line_mesh = meshio.Mesh(points = msh.points, cells={\"line\": line_cells})\n",
    "triangle_mesh = meshio.Mesh(points = msh.points,\n",
    "                           cells=[(\"triangle\", triangle_cells)],\n",
    "                           cell_data={\"name_to_read\":[triangle_data]})\n",
    "meshio.write(\"p_mesh.xdmf\", line_mesh)\n",
    "\n",
    "meshio.write(\"p_mf.xdmf\", triangle_mesh)"
   ]
  }
 ],
 "metadata": {
  "kernelspec": {
   "display_name": "Python 3",
   "language": "python",
   "name": "python3"
  },
  "language_info": {
   "codemirror_mode": {
    "name": "ipython",
    "version": 3
   },
   "file_extension": ".py",
   "mimetype": "text/x-python",
   "name": "python",
   "nbconvert_exporter": "python",
   "pygments_lexer": "ipython3",
   "version": "3.8.5"
  }
 },
 "nbformat": 4,
 "nbformat_minor": 4
}

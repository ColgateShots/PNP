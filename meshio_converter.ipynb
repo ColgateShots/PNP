{
 "cells": [
  {
   "cell_type": "code",
   "execution_count": 2,
   "metadata": {},
   "outputs": [],
   "source": [
    "from dolfin import *\n",
    "#from mshr import *\n",
    "import numpy as np\n",
    "import ufl\n",
    "from time import gmtime, strftime\n",
    "import meshio\n",
    "\n",
    "msh = meshio.read(\"pointy.msh\")\n",
    "\n",
    "line_cells = []\n",
    "for cell in msh.cells:\n",
    "    if cell.type == \"triangle\":\n",
    "        triangle_cells = cell.data\n",
    "    elif  cell.type == \"line\":\n",
    "        if len(line_cells) == 0:\n",
    "            line_cells = cell.data\n",
    "        else:\n",
    "            line_cells = np.vstack([line_cells, cell.data])\n",
    "\n",
    "line_data = []\n",
    "for key in msh.cell_data_dict[\"gmsh:physical\"].keys():\n",
    "    if key == \"line\":\n",
    "        if len(line_data) == 0:\n",
    "            line_data = msh.cell_data_dict[\"gmsh:physical\"][key]\n",
    "        else:\n",
    "            line_data = np.vstack([line_data, msh.cell_data_dict[\"gmsh:physical\"][key]])\n",
    "    elif key == \"triangle\":\n",
    "        triangle_data = msh.cell_data_dict[\"gmsh:physical\"][key]\n",
    "\n",
    "triangle_mesh = meshio.Mesh(points=msh.points, cells={\"triangle\": triangle_cells})\n",
    "line_mesh =meshio.Mesh(points=msh.points,cells=[(\"line\", line_cells)],cell_data={\"name_to_read\":[line_data]})\n",
    "\n",
    "meshio.write(\"pointy_mesh.xdmf\", triangle_mesh)\n",
    "\n",
    "meshio.xdmf.write(\"pointy_mf.xdmf\", line_mesh)"
   ]
  },
  {
   "cell_type": "code",
   "execution_count": null,
   "metadata": {},
   "outputs": [],
   "source": []
  }
 ],
 "metadata": {
  "kernelspec": {
   "display_name": "Python 3",
   "language": "python",
   "name": "python3"
  },
  "language_info": {
   "codemirror_mode": {
    "name": "ipython",
    "version": 3
   },
   "file_extension": ".py",
   "mimetype": "text/x-python",
   "name": "python",
   "nbconvert_exporter": "python",
   "pygments_lexer": "ipython3",
   "version": "3.8.5"
  }
 },
 "nbformat": 4,
 "nbformat_minor": 4
}

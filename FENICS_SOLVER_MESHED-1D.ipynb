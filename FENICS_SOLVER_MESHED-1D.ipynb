{
 "cells": [
  {
   "cell_type": "markdown",
   "metadata": {},
   "source": [
    "# FENICS SOLVER"
   ]
  },
  {
   "cell_type": "markdown",
   "metadata": {},
   "source": [
    "### Import needed packages "
   ]
  },
  {
   "cell_type": "code",
   "execution_count": 1,
   "metadata": {},
   "outputs": [],
   "source": [
    "# Get the libraries\n",
    "import fenics as fn\n",
    "import numpy as np\n",
    "import sympy as sym\n",
    "import scipy as sc\n",
    "from scipy import constants\n",
    "import matplotlib.pyplot as plt\n",
    "from mpl_toolkits.mplot3d import Axes3D\n",
    "from matplotlib import cm #Colormap\n",
    "import meshio as mio\n",
    "#import mshr as msr\n"
   ]
  },
  {
   "cell_type": "code",
   "execution_count": null,
   "metadata": {},
   "outputs": [],
   "source": []
  },
  {
   "cell_type": "code",
   "execution_count": 2,
   "metadata": {},
   "outputs": [],
   "source": [
    "mesh = fn.Mesh()\n",
    "with fn.XDMFFile(\"meshing/Dmesh.xdmf\") as infile:\n",
    "    infile.read(mesh)\n",
    "mvc = fn.MeshValueCollection(\"size_t\", mesh, 2) \n",
    "with fn.XDMFFile(\"meshing/Dmf.xdmf\") as infile:\n",
    "    infile.read(mvc, \"name_to_read\")\n",
    "mf = fn.cpp.mesh.MeshFunctionSizet(mesh, mvc)\n"
   ]
  },
  {
   "cell_type": "code",
   "execution_count": 3,
   "metadata": {
    "scrolled": true
   },
   "outputs": [],
   "source": [
    "M    = 2   #species\n",
    "\n",
    "Poly    = fn.FiniteElement('Lagrange', mesh.ufl_cell(),2)\n",
    "Multi   = fn.FiniteElement('Real', mesh.ufl_cell(), 0)\n",
    "ElemP   = [Poly] * (M+1) \n",
    "ElemR   = [Multi] * (M)\n",
    "Elem    = [ElemP + ElemR][0]\n",
    "Mixed   = fn.MixedElement(Elem)\n",
    "V       = fn.FunctionSpace(mesh, Mixed)"
   ]
  },
  {
   "cell_type": "code",
   "execution_count": 4,
   "metadata": {},
   "outputs": [],
   "source": [
    "# define potentials and concentrations\n",
    "u_GND  = fn.Expression('0', degree=2)          #Ground\n",
    "u_DD   = fn.Expression('0.5', degree=2)          #pontential\n",
    "c_avg  = fn.Expression('0.0001', degree=2)    #average concentration\n",
    "\n",
    "# set boundary conditions\n",
    "bcs = []\n",
    "bcs += [fn.DirichletBC(V.sub(0), u_DD, mf,3)]\n",
    "bcs += [fn.DirichletBC(V.sub(0), u_GND, mf, 1)]\n",
    "\n",
    "# define problem\n",
    "UC    = fn.Function(V)\n",
    "uc    = fn.split(UC)                        # trial function potential concentration lagrange multi\n",
    "u, c, lam = uc[0], uc[1:M+1], uc[M+1:]\n",
    "\n",
    "VW    = fn.TestFunctions(V)                          # test function potential concentration lagrange multi                     \n",
    "v, w, mu = VW[0], VW[1:M+1], VW[M+1:]\n",
    "\n",
    "\n",
    "#lets try rot\n",
    "r = fn.Expression('x[0]', degree=0)\n",
    "\n",
    "# changing concentrations charges\n",
    "Rho = 0\n",
    "for i in range(M):\n",
    "    if i%2:\n",
    "        Rho += -c[i]\n",
    "    else:\n",
    "        Rho += c[i]\n",
    "\n",
    "PoissonLeft     = (fn.dot(fn.grad(u), fn.grad(v)))*fn.dx                    # weak solution Poisson left\n",
    "PoissonRight    = -(Rho)*v*fn.dx                                  # weak solution Poisson right\n",
    "NernstPlanck    = 0\n",
    "for i in range(M):\n",
    "    if i%2:\n",
    "        NernstPlanck += fn.dot((-fn.grad(c[i]) + c[i]*fn.grad(u)),fn.grad(w[i]))*fn.dx     # weak solution Nernst-Planck \n",
    "    else:\n",
    "        NernstPlanck += fn.dot((-fn.grad(c[i]) - c[i]*fn.grad(u)),fn.grad(w[i]))*fn.dx     # weak solution Nernst-Planck\n",
    "\n",
    "constraint = 0\n",
    "for i in range(M):\n",
    "    constraint += lam[i] * w[i] * fn.dx + (c[i] - c_avg) * mu[i] * fn.dx            #constraint a la hoermann\n",
    "    \n",
    "        \n",
    "PNP_xy     = PoissonLeft + PoissonRight + NernstPlanck + constraint        # PNP system\n",
    " "
   ]
  },
  {
   "cell_type": "code",
   "execution_count": 5,
   "metadata": {
    "scrolled": true
   },
   "outputs": [],
   "source": [
    "# Compute solution\n",
    "fn.solve(PNP_xy == 0, UC, bcs) # solve function\n"
   ]
  },
  {
   "cell_type": "code",
   "execution_count": 6,
   "metadata": {},
   "outputs": [],
   "source": [
    "S1, S2, S3, S4, S5 = UC.split()"
   ]
  },
  {
   "cell_type": "code",
   "execution_count": 7,
   "metadata": {},
   "outputs": [
    {
     "data": {
      "image/png": "[encoded data removed]",
      "text/plain": [
       "<Figure size 432x288 with 1 Axes>"
      ]
     },
     "metadata": {
      "needs_background": "light"
     },
     "output_type": "display_data"
    }
   ],
   "source": [
    "fig = plt.figure()\n",
    "ax = fig.add_subplot()\n",
    "\n",
    "plt.plot(np.linspace(0,500),[S1(0,x,0) for x in np.linspace(0,500)])\n",
    "\n",
    "ax.set_ylabel(\"$ \\Phi\\;[{U_T}]$\")\n",
    "ax.set_xlabel(\"$ z_{dl}\\;[{\\lambda_D}]$\")\n",
    "fig.tight_layout()\n",
    "plt.savefig(\"1DPOT.png\")\n"
   ]
  },
  {
   "cell_type": "code",
   "execution_count": 8,
   "metadata": {},
   "outputs": [],
   "source": [
    "x = 0.0327683*np.linspace(0,500)\n",
    "y = [S1(0,x,0) for x in np.linspace(0,500)]\n",
    "z = [S2(0,x,0) for x in np.linspace(0,500)]"
   ]
  },
  {
   "cell_type": "code",
   "execution_count": 9,
   "metadata": {},
   "outputs": [],
   "source": [
    "np.savez(\"d.npz\", x, y, z)"
   ]
  },
  {
   "cell_type": "code",
   "execution_count": null,
   "metadata": {},
   "outputs": [],
   "source": []
  }
 ],
 "metadata": {
  "kernelspec": {
   "display_name": "Python 3",
   "language": "python",
   "name": "python3"
  },
  "language_info": {
   "codemirror_mode": {
    "name": "ipython",
    "version": 3
   },
   "file_extension": ".py",
   "mimetype": "text/x-python",
   "name": "python",
   "nbconvert_exporter": "python",
   "pygments_lexer": "ipython3",
   "version": "3.8.5"
  }
 },
 "nbformat": 4,
 "nbformat_minor": 4
}

{
 "cells": [
  {
   "cell_type": "markdown",
   "metadata": {},
   "source": [
    "# FENICS SOLVER\n",
    "## minimalistic "
   ]
  },
  {
   "cell_type": "code",
   "execution_count": 1,
   "metadata": {},
   "outputs": [],
   "source": [
    "# Get the libraries\n",
    "import fenics as fn\n",
    "import numpy as np\n",
    "import matplotlib.pyplot as plt\n",
    "from mpl_toolkits.mplot3d import Axes3D"
   ]
  },
  {
   "cell_type": "code",
   "execution_count": 2,
   "metadata": {
    "scrolled": true
   },
   "outputs": [],
   "source": [
    "# define mesh and define function space\n",
    "X    = 500  #x-limit\n",
    "Y    = 500  #y-limit\n",
    "NX   = 50  #x-steps\n",
    "NY   = 50  #y-steps\n",
    "\n",
    "mesh = fn.RectangleMesh(fn.Point(-X, -Y), fn.Point(X, Y), NX, NY)\n",
    "\n",
    "Poly    = fn.FiniteElement('Lagrange', mesh.ufl_cell(),2)\n",
    "Real    = fn.FiniteElement('Real', mesh.ufl_cell(), 0)\n",
    "Elem    = [Poly,Poly,Poly,Real,Real] \n",
    "Mixed   = fn.MixedElement(Elem)\n",
    "V       = fn.FunctionSpace(mesh, Mixed)\n"
   ]
  },
  {
   "cell_type": "code",
   "execution_count": 3,
   "metadata": {},
   "outputs": [
    {
     "data": {
      "text/plain": [
       "[FiniteElement('Lagrange', triangle, 2),\n",
       " FiniteElement('Lagrange', triangle, 2),\n",
       " FiniteElement('Lagrange', triangle, 2),\n",
       " FiniteElement('Real', triangle, 0),\n",
       " FiniteElement('Real', triangle, 0)]"
      ]
     },
     "execution_count": 3,
     "metadata": {},
     "output_type": "execute_result"
    }
   ],
   "source": [
    "Elem"
   ]
  },
  {
   "cell_type": "code",
   "execution_count": 4,
   "metadata": {},
   "outputs": [],
   "source": [
    "# define potentials and concentrations\n",
    "u_GND  = fn.Expression('0', degree=2)\n",
    "u_DD   = fn.Expression('0.025', degree=2)\n",
    "c_INIT = fn.Expression('0.00001', degree=2)\n",
    "c_AVG  = fn.Expression('0.00001', degree=2)\n",
    "\n",
    "# define boundaries\n",
    "def boundaryGND(x, on_boundary):\n",
    "    tol=1e-12\n",
    "    return ((x[1] < -500 + tol) and on_boundary) \n",
    "def boundaryHigh(x, on_boundary):\n",
    "    tol=1e-12\n",
    "    return (x[1] > 500  - tol) and on_boundary\n",
    "\n",
    "# set boundary conditions\n",
    "GammaGND  = fn.DirichletBC(V.sub(0), u_GND, boundaryGND)  # ground potential at straight electrode\n",
    "GammaHigh = fn.DirichletBC(V.sub(0), u_DD, boundaryHigh)  # high potential at shaped electrode\n",
    "#GammaC_GND0 = fn.DirichletBC(V.sub(0) , c_INIT, boundaryGND)\n",
    "#GammaC_GND1 = fn.DirichletBC(V.sub(1) , c_INIT, boundaryGND) \n",
    "#GammaC_GND2 = fn.DirichletBC(V.sub(2) , c_INIT, boundaryGND)\n",
    "bcs=[GammaGND,GammaHigh]#,GammaC_GND0,GammaC_GND1,GammaC_GND2]\n",
    "\n",
    "\n",
    "# define problem\n",
    "UC    = fn.Function(V)\n",
    "uc    = fn.split(UC)\n",
    "u, c1, c2, lam1, lam2  = uc[0], uc[1], uc [2], uc[3], uc[4]\n",
    "\n",
    "VW    = fn.TestFunctions(V)                    \n",
    "v, w1, w2, mu1, mu2  = VW[0], VW[1], VW[2], VW[3], VW[4]\n",
    "\n",
    "#create rotation\n",
    "r = fn.Expression('x[0]', degree=1)\n",
    "\n",
    "# changing concentrations charges\n",
    "PoissonLeft     = (fn.dot(r*fn.grad(u), fn.grad(v)))*fn.dx\n",
    "PoissonRight    = r*c1*v*fn.dx - r*c2*v*fn.dx\n",
    "\n",
    "NernstPlanck1   = (fn.dot(r*(-fn.grad(c1) - (c1)*fn.grad(u)),fn.grad(w1))*fn.dx)\n",
    "NernstPlanck2   = (fn.dot(r*(-fn.grad(c2) + (c2)*fn.grad(u)),fn.grad(w2))*fn.dx)\n",
    "\n",
    "Constraint1     = r*lam1 * w1 * fn.dx + r*((c1) - c_AVG) * mu1 * fn.dx\n",
    "Constraint2     = r*lam2 * w2 * fn.dx + r*((c2) - c_AVG) * mu2 * fn.dx\n",
    "PNP_xy          = PoissonLeft - PoissonRight + NernstPlanck1 + NernstPlanck2 + Constraint1 + Constraint2\n",
    " "
   ]
  },
  {
   "cell_type": "code",
   "execution_count": null,
   "metadata": {
    "scrolled": true
   },
   "outputs": [
    {
     "name": "stdout",
     "output_type": "stream",
     "text": [
      "Calling FFC just-in-time (JIT) compiler, this may take some time.\n",
      "Calling FFC just-in-time (JIT) compiler, this may take some time.\n"
     ]
    }
   ],
   "source": [
    "# Compute solution\n",
    "fn.solve(PNP_xy == 0, UC, bcs) # solve function"
   ]
  },
  {
   "cell_type": "code",
   "execution_count": null,
   "metadata": {},
   "outputs": [],
   "source": [
    "%matplotlib notebook\n",
    "x,y=mesh.coordinates().T\n",
    "X=x.reshape(NX+1,NY+1)\n",
    "Y=y.reshape(NX+1,NY+1)"
   ]
  },
  {
   "cell_type": "code",
   "execution_count": null,
   "metadata": {},
   "outputs": [],
   "source": [
    "w_xy = np.array([UC(xy) for xy in mesh.coordinates()])\n",
    "W_xy = w_xy.reshape((NX+1),(NY+1),5)\n",
    "U_xy = W_xy[:,:,0]\n",
    "C_xys = W_xy[:,:,1:]"
   ]
  },
  {
   "cell_type": "code",
   "execution_count": null,
   "metadata": {},
   "outputs": [],
   "source": [
    "fig = plt.figure()\n",
    "ax = fig.add_subplot()\n",
    "#ax.plot(Y,U_xy[::,10])\n",
    "#ax.plot(Y,U_xy[::,20])\n",
    "ax.plot(Y,U_xy[::,25])"
   ]
  },
  {
   "cell_type": "code",
   "execution_count": null,
   "metadata": {},
   "outputs": [],
   "source": [
    "fig = plt.figure()\n",
    "ax = fig.add_subplot()\n",
    "#ax.plot(Y,C_xys[:,:,0][::,10])\n",
    "#ax.plot(Y,C_xys[:,:,0][::,20])\n",
    "ax.plot(Y,C_xys[:,:,0][::,25])"
   ]
  },
  {
   "cell_type": "code",
   "execution_count": null,
   "metadata": {},
   "outputs": [],
   "source": [
    "fig = plt.figure()\n",
    "ax = fig.add_subplot()\n",
    "#ax.plot(Y,C_xys[:,:,1][::,10])\n",
    "#ax.plot(Y,C_xys[:,:,1][::,20])\n",
    "ax.plot(Y,C_xys[:,:,1][::,25])"
   ]
  },
  {
   "cell_type": "code",
   "execution_count": null,
   "metadata": {
    "scrolled": false
   },
   "outputs": [],
   "source": [
    "fig = plt.figure()\n",
    "ax = fig.add_subplot(111, projection='3d')\n",
    "ax.plot_surface(X,Y,U_xy)\n",
    "\n",
    "\n",
    "fig = plt.figure()\n",
    "ax = fig.add_subplot(111, projection='3d')\n",
    "ax.plot_surface(X,Y,C_xys[:,:,0])\n",
    "\n",
    "fig = plt.figure()\n",
    "ax = fig.add_subplot(111, projection='3d')\n",
    "ax.plot_surface(X,Y,C_xys[:,:,1])\n"
   ]
  }
 ],
 "metadata": {
  "kernelspec": {
   "display_name": "Python 3",
   "language": "python",
   "name": "python3"
  },
  "language_info": {
   "codemirror_mode": {
    "name": "ipython",
    "version": 3
   },
   "file_extension": ".py",
   "mimetype": "text/x-python",
   "name": "python",
   "nbconvert_exporter": "python",
   "pygments_lexer": "ipython3",
   "version": "3.8.5"
  }
 },
 "nbformat": 4,
 "nbformat_minor": 4
}

{
 "cells": [
  {
   "cell_type": "markdown",
   "metadata": {},
   "source": [
    "# FENICS SOLVER"
   ]
  },
  {
   "cell_type": "markdown",
   "metadata": {},
   "source": [
    "### Import needed packages "
   ]
  },
  {
   "cell_type": "code",
   "execution_count": 1,
   "metadata": {},
   "outputs": [],
   "source": [
    "# Get the libraries\n",
    "import fenics as fn\n",
    "import numpy as np\n",
    "import sympy as sym\n",
    "import scipy as sc\n",
    "from scipy import constants\n",
    "import matplotlib.pyplot as plt\n",
    "from mpl_toolkits.mplot3d import Axes3D\n",
    "from matplotlib import cm #Colormap\n",
    "import meshio as mio\n",
    "#import mshr as msr"
   ]
  },
  {
   "cell_type": "markdown",
   "metadata": {},
   "source": [
    "#### Recangle mesh representing cell\n",
    "#### Finite Elements for electrical potential and ion concentration\n",
    "#### Simulation domain\n"
   ]
  },
  {
   "cell_type": "code",
   "execution_count": 2,
   "metadata": {},
   "outputs": [],
   "source": [
    "#set parameters\n",
    "q  = constants.value('elementary charge')           #C\n",
    "T  = 273      #K\n",
    "k  = constants.value('Boltzmann constant')          #J/K\n",
    "e0 = constants.value('atomic unit of permittivity') #F/m\n",
    "er = 110 #epsilonR e.g. h2so4\n",
    "D  = 1 #diff\n",
    "z  = 1 #charge e.g. Mg2+ \n",
    "\n",
    "alpha = 1#e0 * er \n",
    "beta  = z \n",
    "gamma = D\n",
    "delta = 1#(D * q * z)/(k * T)"
   ]
  },
  {
   "cell_type": "code",
   "execution_count": 3,
   "metadata": {},
   "outputs": [],
   "source": [
    "mesh = fn.Mesh()\n",
    "with fn.XDMFFile(\"pointy_mesh.xdmf\") as infile:\n",
    "    infile.read(mesh)\n",
    "mvc = fn.MeshValueCollection(\"size_t\", mesh, 2) \n",
    "with fn.XDMFFile(\"pointy_mf.xdmf\") as infile:\n",
    "    infile.read(mvc, \"name_to_read\")\n",
    "mf = fn.cpp.mesh.MeshFunctionSizet(mesh, mvc)\n"
   ]
  },
  {
   "cell_type": "code",
   "execution_count": 4,
   "metadata": {
    "scrolled": true
   },
   "outputs": [],
   "source": [
    "NX = 500\n",
    "NY = NX\n",
    "M    = 2   #species\n",
    "\n",
    "Poly    = fn.FiniteElement('Lagrange', mesh.ufl_cell(),2)\n",
    "Multi   = fn.FiniteElement('Real', mesh.ufl_cell(), 0)\n",
    "ElemP   = [Poly] * (M+1) \n",
    "ElemR   = [Multi] * (M)\n",
    "Elem    = [ElemP + ElemR][0]\n",
    "Mixed   = fn.MixedElement(Elem)\n",
    "V       = fn.FunctionSpace(mesh, Mixed)"
   ]
  },
  {
   "cell_type": "markdown",
   "metadata": {},
   "source": [
    "Poisson equation PE:\n",
    "    $$ \\nabla ( \\epsilon_0 \\epsilon_r \\nabla \\Phi) = \\rho = zFc $$\n",
    "Nernst-Planck equation NPE:\n",
    "    $$ \\nabla (-D \\nabla c - D z f c \\nabla \\Phi ) = 0 $$\n",
    "Test functions:\n",
    "    $$ v,w \\in V $$\n",
    "Raise generalized solution:\n",
    "    $$ \\int(\\epsilon_0 \\epsilon_r \\nabla \\Phi) * \\nabla v *dx = \\int z F c * v * dx $$\n",
    "    $$ \\int(-D \\nabla c - D z f c \\nabla \\Phi ) * \\nabla w *dx = 0$$\n",
    "    \n",
    "Establish generalized PNP system:\n",
    "    $$ \\int \\alpha \\nabla \\Phi * v * dx - \\int \\beta c * v *dx - \\int(\\gamma \\nabla c - \\delta c \\nabla \\Phi ) * w *dx $$"
   ]
  },
  {
   "cell_type": "code",
   "execution_count": 5,
   "metadata": {},
   "outputs": [],
   "source": [
    "# define potentials and concentrations\n",
    "u_GND  = fn.Expression('0', degree=2)          #Ground\n",
    "u_DD   = fn.Expression('0.5', degree=2)          #pontential\n",
    "c_INIT = fn.Expression('0.000001', degree=2)     #concentration on ground\n",
    "c_avg  = fn.Expression('0.0001', degree=2)    #average concentration\n",
    "c_NULL = fn.Expression('0.0001', degree=2)\n",
    "\n",
    "# define boundaries\n",
    "def boundaryGND(x, on_boundary):\n",
    "    tol=1e-12\n",
    "    return ((x[1] < -400 + tol)) \n",
    "def boundaryHigh(x, on_boundary):\n",
    "    tol=1e-12\n",
    "    return (x[1] > pow(x[0]/5,2)  - tol)\n",
    "\n",
    "# set boundary conditions\n",
    "\"\"\"\"\n",
    "GammaGND  = fn.DirichletBC(V.sub(0), u_GND, boundaryGND)  # ground potential at straight electrode\n",
    "GammaHigh = fn.DirichletBC(V.sub(0), u_DD, boundaryHigh)  # high potential at shaped electrode\n",
    "GammaC_GND    = []\n",
    "GammaC_GND += [fn.DirichletBC(V.sub(i+1) , c_INIT, boundaryGND) for i in range(M)] # given concentration at straight electrode\n",
    "GammaC_HIGH    = []\n",
    "GammaC_HIGH += [fn.DirichletBC(V.sub(i+1) , c_avg, boundaryHigh) for i in range(M)] # given concentration at straight electrode\n",
    "# create list of boundary conditions \n",
    "bcs=[GammaGND,GammaHigh,*GammaC_GND]#,*GammaC_HIGH]\n",
    "\"\"\"\n",
    "bcs = []\n",
    "bcs += [fn.DirichletBC(V.sub(i), fn.Constant(0.0), mf, 1) for i in range(M+1)]\n",
    "\n",
    "# define problem\n",
    "UC    = fn.Function(V)\n",
    "uc    = fn.split(UC)                        # trial function potential concentration lagrange multi\n",
    "u, c, lam = uc[0], uc[1:M+1], uc[M+1:]\n",
    "\n",
    "VW    = fn.TestFunctions(V)                          # test function potential concentration lagrange multi                     \n",
    "v, w, mu = VW[0], VW[1:M+1], VW[M+1:]\n",
    "\n",
    "# changing concentrations charges\n",
    "Rho = 0\n",
    "for i in range(M):\n",
    "    if i%2:\n",
    "        Rho += -c[i]\n",
    "    else:\n",
    "        Rho += c[i]\n",
    "\n",
    "PoissonLeft     = (fn.dot(alpha*fn.grad(u), fn.grad(v)))*fn.dx                    # weak solution Poisson left\n",
    "PoissonRight    = -(Rho)*beta*v*fn.dx                                  # weak solution Poisson right\n",
    "NernstPlanck    = 0\n",
    "for i in range(M):\n",
    "    if i%2:\n",
    "        NernstPlanck += fn.dot(-gamma*fn.grad(c[i]) + c[i]*delta*fn.grad(u),fn.grad(w[i]))*fn.dx     # weak solution Nernst-Planck \n",
    "    else:\n",
    "        NernstPlanck += fn.dot(-gamma*fn.grad(c[i]) - c[i]*delta*fn.grad(u),fn.grad(w[i]))*fn.dx     # weak solution Nernst-Planck\n",
    "\n",
    "constraint = 0\n",
    "for i in range(M):\n",
    "    constraint += lam[i] * w[i] * fn.dx + (c[i] - c_avg) * mu[i] * fn.dx            #constraint a la hoermann\n",
    "    \n",
    "        \n",
    "PNP_xy     = PoissonLeft + PoissonRight + NernstPlanck + constraint        # PNP system\n",
    " "
   ]
  },
  {
   "cell_type": "code",
   "execution_count": 6,
   "metadata": {
    "scrolled": true
   },
   "outputs": [],
   "source": [
    "# Compute solution\n",
    "fn.solve(PNP_xy == 0, UC, bcs) # solve function"
   ]
  },
  {
   "cell_type": "code",
   "execution_count": 7,
   "metadata": {},
   "outputs": [
    {
     "ename": "ValueError",
     "evalue": "cannot reshape array of size 10013 into shape (501,501)",
     "output_type": "error",
     "traceback": [
      "\u001b[0;31m---------------------------------------------------------------------------\u001b[0m",
      "\u001b[0;31mValueError\u001b[0m                                Traceback (most recent call last)",
      "\u001b[0;32m<ipython-input-7-3e13c417f00b>\u001b[0m in \u001b[0;36m<module>\u001b[0;34m\u001b[0m\n\u001b[1;32m      1\u001b[0m \u001b[0mget_ipython\u001b[0m\u001b[0;34m(\u001b[0m\u001b[0;34m)\u001b[0m\u001b[0;34m.\u001b[0m\u001b[0mrun_line_magic\u001b[0m\u001b[0;34m(\u001b[0m\u001b[0;34m'matplotlib'\u001b[0m\u001b[0;34m,\u001b[0m \u001b[0;34m'notebook'\u001b[0m\u001b[0;34m)\u001b[0m\u001b[0;34m\u001b[0m\u001b[0;34m\u001b[0m\u001b[0m\n\u001b[1;32m      2\u001b[0m \u001b[0mx\u001b[0m\u001b[0;34m,\u001b[0m\u001b[0my\u001b[0m\u001b[0;34m,\u001b[0m\u001b[0mZ\u001b[0m\u001b[0;34m=\u001b[0m\u001b[0mmesh\u001b[0m\u001b[0;34m.\u001b[0m\u001b[0mcoordinates\u001b[0m\u001b[0;34m(\u001b[0m\u001b[0;34m)\u001b[0m\u001b[0;34m.\u001b[0m\u001b[0mT\u001b[0m\u001b[0;34m\u001b[0m\u001b[0;34m\u001b[0m\u001b[0m\n\u001b[0;32m----> 3\u001b[0;31m \u001b[0mX\u001b[0m\u001b[0;34m=\u001b[0m\u001b[0mx\u001b[0m\u001b[0;34m.\u001b[0m\u001b[0mreshape\u001b[0m\u001b[0;34m(\u001b[0m\u001b[0mNX\u001b[0m\u001b[0;34m+\u001b[0m\u001b[0;36m1\u001b[0m\u001b[0;34m,\u001b[0m\u001b[0mNY\u001b[0m\u001b[0;34m+\u001b[0m\u001b[0;36m1\u001b[0m\u001b[0;34m)\u001b[0m\u001b[0;34m\u001b[0m\u001b[0;34m\u001b[0m\u001b[0m\n\u001b[0m\u001b[1;32m      4\u001b[0m \u001b[0mY\u001b[0m\u001b[0;34m=\u001b[0m\u001b[0my\u001b[0m\u001b[0;34m.\u001b[0m\u001b[0mreshape\u001b[0m\u001b[0;34m(\u001b[0m\u001b[0mNX\u001b[0m\u001b[0;34m+\u001b[0m\u001b[0;36m1\u001b[0m\u001b[0;34m,\u001b[0m\u001b[0mNY\u001b[0m\u001b[0;34m+\u001b[0m\u001b[0;36m1\u001b[0m\u001b[0;34m)\u001b[0m\u001b[0;34m\u001b[0m\u001b[0;34m\u001b[0m\u001b[0m\n",
      "\u001b[0;31mValueError\u001b[0m: cannot reshape array of size 10013 into shape (501,501)"
     ]
    }
   ],
   "source": [
    "%matplotlib notebook\n",
    "x,y,Z=mesh.coordinates().T\n",
    "X=x.reshape(NX+1,NY+1)\n",
    "Y=y.reshape(NX+1,NY+1)"
   ]
  },
  {
   "cell_type": "code",
   "execution_count": 10,
   "metadata": {},
   "outputs": [
    {
     "data": {
      "text/plain": [
       "array([ 500.        ,  500.        , -500.        , ...,  467.73009098,\n",
       "       -199.49265593, -429.88916293])"
      ]
     },
     "execution_count": 10,
     "metadata": {},
     "output_type": "execute_result"
    }
   ],
   "source": [
    "y"
   ]
  },
  {
   "cell_type": "code",
   "execution_count": null,
   "metadata": {
    "scrolled": false
   },
   "outputs": [],
   "source": [
    "w_xy = np.array([UC(xy) for xy in mesh.coordinates()])\n",
    "W_xy = w_xy.reshape((NX+1),(NY+1),M+1+M)\n",
    "U_xy = W_xy[:,:,0]\n",
    "C_xys = W_xy[:,:,1:]\n",
    "\n",
    "\n",
    "\n",
    "fig = plt.figure()\n",
    "ax = fig.add_subplot(111, projection='3d')\n",
    "ax.plot_surface(X,Y,U_xy)\n",
    "\n",
    "\n",
    "fig = plt.figure()\n",
    "ax = fig.add_subplot(111, projection='3d')\n",
    "ax.plot_surface(X,Y,C_xys[:,:,0])\n",
    "\n",
    "fig = plt.figure()\n",
    "ax = fig.add_subplot(111, projection='3d')\n",
    "ax.plot_surface(X,Y,C_xys[:,:,1])\n"
   ]
  },
  {
   "cell_type": "code",
   "execution_count": null,
   "metadata": {},
   "outputs": [],
   "source": [
    "def colormap(array):\n",
    "    fig = plt.figure()\n",
    "    ax = fig.add_subplot()\n",
    "    #cbar = fig.colorbar()\n",
    "    ax.imshow(array, cmap=\"viridis\")"
   ]
  },
  {
   "cell_type": "code",
   "execution_count": null,
   "metadata": {},
   "outputs": [],
   "source": [
    "def contour(array):\n",
    "    fig = plt.figure()\n",
    "    ax = fig.add_subplot()\n",
    "    ax.contour(array)"
   ]
  },
  {
   "cell_type": "code",
   "execution_count": null,
   "metadata": {},
   "outputs": [],
   "source": [
    "contour(U_xy)"
   ]
  },
  {
   "cell_type": "code",
   "execution_count": null,
   "metadata": {},
   "outputs": [],
   "source": [
    "fig = plt.figure()\n",
    "ax = fig.add_subplot()\n",
    "ax.plot(Y,U_xy[::,10])\n",
    "ax.plot(Y,U_xy[::,20])\n",
    "ax.plot(Y,U_xy[::,25])"
   ]
  },
  {
   "cell_type": "code",
   "execution_count": null,
   "metadata": {},
   "outputs": [],
   "source": [
    "fig = plt.figure()\n",
    "ax = fig.add_subplot()\n",
    "ax.plot(Y,U_xy[50])\n",
    "ax.plot(Y,U_xy[40])\n",
    "ax.plot(Y,U_xy[30])\n",
    "ax.plot(Y,U_xy[20])\n",
    "ax.plot(Y,U_xy[10])"
   ]
  }
 ],
 "metadata": {
  "kernelspec": {
   "display_name": "Python 3",
   "language": "python",
   "name": "python3"
  },
  "language_info": {
   "codemirror_mode": {
    "name": "ipython",
    "version": 3
   },
   "file_extension": ".py",
   "mimetype": "text/x-python",
   "name": "python",
   "nbconvert_exporter": "python",
   "pygments_lexer": "ipython3",
   "version": "3.8.5"
  }
 },
 "nbformat": 4,
 "nbformat_minor": 4
}
